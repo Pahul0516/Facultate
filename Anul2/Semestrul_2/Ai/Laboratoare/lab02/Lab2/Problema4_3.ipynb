{
 "cells": [
  {
   "metadata": {},
   "cell_type": "markdown",
   "source": "problema 3 - numarul de aparitii a cuvintelor la nivelul unei propozitii.",
   "id": "dc7e1a31102520bc"
  },
  {
   "cell_type": "code",
   "id": "initial_id",
   "metadata": {
    "collapsed": true,
    "ExecuteTime": {
     "end_time": "2025-03-11T13:29:05.263063Z",
     "start_time": "2025-03-11T13:29:02.512074Z"
    }
   },
   "source": [
    "import unicodedata\n",
    "import re\n",
    "import os\n",
    "import string\n",
    "from nltk.corpus import stopwords\n",
    "from nltk import WordNetLemmatizer\n",
    "from nltk import PorterStemmer\n",
    "from nltk.tokenize import word_tokenize, sent_tokenize\n",
    "\n",
    "\n",
    "dir = os.getcwd()\n",
    "file_path = os.path.join(dir,\"texts.txt\")\n",
    "with open(file_path, 'r', encoding='UTF-8') as f:\n",
    "    text = f.read()\n",
    "    f.close()\n",
    "\n",
    "words = word_tokenize(text)"
   ],
   "outputs": [],
   "execution_count": 2
  },
  {
   "metadata": {},
   "cell_type": "markdown",
   "source": "Metode de normalizare",
   "id": "baea5cf2583acd4a"
  },
  {
   "metadata": {},
   "cell_type": "markdown",
   "source": "1.Lowercasing\n",
   "id": "8a977f63ae11e42d"
  },
  {
   "metadata": {
    "ExecuteTime": {
     "end_time": "2025-03-11T13:29:05.280411Z",
     "start_time": "2025-03-11T13:29:05.274595Z"
    }
   },
   "cell_type": "code",
   "source": "words = [word.lower() for word in words]",
   "id": "aa54e0599b4a6384",
   "outputs": [],
   "execution_count": 3
  },
  {
   "metadata": {},
   "cell_type": "markdown",
   "source": "2.Eliminarea semnelor de punctuatie",
   "id": "ffbbba53a81ccaa1"
  },
  {
   "metadata": {
    "ExecuteTime": {
     "end_time": "2025-03-11T13:29:05.308119Z",
     "start_time": "2025-03-11T13:29:05.303463Z"
    }
   },
   "cell_type": "code",
   "source": [
    "words = [word for word in words if word not in string.punctuation]\n",
    "words = [word for word in words if word not in \"”\"]"
   ],
   "id": "737196d7268693ee",
   "outputs": [],
   "execution_count": 4
  },
  {
   "metadata": {},
   "cell_type": "markdown",
   "source": "Step 3: Eliminarea stopword-urilor -- A stopword is an uninformative word that don’t add substance",
   "id": "766a6bff16e8e53"
  },
  {
   "metadata": {
    "ExecuteTime": {
     "end_time": "2025-03-11T13:29:05.350020Z",
     "start_time": "2025-03-11T13:29:05.326394Z"
    }
   },
   "cell_type": "code",
   "source": [
    "stop_words = set(stopwords.words('romanian'))\n",
    "print(stop_words)\n",
    "words = [word for word in words if word not in stop_words]"
   ],
   "id": "322c8a7ff0bb81c4",
   "outputs": [
    {
     "name": "stdout",
     "output_type": "stream",
     "text": [
      "{'fim', 'cîtva', 'as', 'mie', 'ăla', 'altii', 'ceva', 'aţi', 'face', 'acest', 'aceea', 'cei', 'vă', 'câţi', 'alti', 'anume', 'mereu', 'alt', 'cand', 'cît', 'u', 'catre', 'e', 'cum', 'totusi', 'uneori', 'zi', 'el', 'ele', 'inapoi', 'ce', 'cîte', 'dau', 'doilea', 'două', 'fata', 'cât', 'cumva', 'căror', 'acea', 'spre', 'alta', 'câte', 'nişte', 'ori', 'cele', 'cea', 'această', 'pai', 'către', 'sunteţi', 'fiecare', 'cita', 'îţi', 'mele', 'dar', 'deja', 'fiu', 'toate', 'atatea', 'cu', 'dat', 'al', 'este', 'mult', 'cîţi', 'toti', 'mei', 'am', 'sub', 'cineva', 'altcineva', 'meu', 'unde', 'cînd', 'ale', 'altceva', 'tăi', 'oricum', 'au', 'de', 'unora', 'atitea', 'unei', 'atunci', 'iar', 'citiva', 'lor', 'dintre', 'are', 'te', 'voştri', 'ar', 'pentru', 'daca', 'noştri', 'chiar', 'atit', 'le', 'atare', 'i', 'să', 'puţin', 'lângă', 'aceia', 'asta', 'acestia', 'ţi', 'mâine', 'cărei', 'atitia', 'nu', 'unu', 'poate', 'lîngă', 'avea', 'alte', 'cite', 'orice', 'apoi', 'treia', 'vreo', 'fie', 'aibă', 'care', 'fara', 'va', 'oricând', 'deasupra', 'fii', 'cind', 'ceilalti', 'unele', 'unor', 'aia', 'şi', 'ălea', 'intr', 'aceştia', 'noastră', 'nou', 'despre', 'nouă', 'foarte', 'tocmai', 'pot', 'atata', 'asa', 'ţie', 'aici', 'vom', 'pic', 'la', 'pe', 'm', 'un', 'ni', 'se', 'iti', 'trei', 'o', 'spate', 'cui', 'sai', 'asupra', 'tine', 'acela', 'multi', 'multă', 'prima', 'vreun', 'ci', 'parca', 'altfel', 'citi', 'in', 'or', 'noi', 'ea', 'mîine', 'aveţi', 'dupa', 'până', 'dintr-', 'acei', 'ei', 'una', 'patru', 'nimeni', 'primul', 'ăsta', 'sa-mi', 'mulţi', 'zice', 't', 'puţina', 'vi', 'atatia', 'acestui', 'mod', 'peste', 'acelea', 'da', 'acestea', 'câtva', 'caruia', 'doi', 'avut', 'fost', 'totuşi', 'dată', 'că', 'sa', 'il', 'voastră', 'tale', 'aceeasi', 'unul', 'cam', 'ala', 'abia', 'atat', 'doar', 'cit', 'ti', 'v', 'dacă', 'vostru', 'ăstea', 'era', 'său', 'desi', 'treilea', 'ul', 'uneia', 'tu', 'dintr', 'ne', 'cat', 'nostru', 'din', 'sint', 'mea', 'astfel', 'unui', 'deci', 'sunt', 'unuia', 'ii', 'alea', 'avem', 'nici', 'oricît', 'acel', 'ta', 'a', 'pînă', 'cărui', 'fi', 'mai', 'celor', 'acesta', 'voi', 'sau', 'patra', 'ia', 'undeva', 'multe', 'lui', 'ceea', 'prin', 'numai', 'printr-', 'aceste', 'dă', 'oricine', 'citeva', 'aceasta', 'prea', 'drept', 'voastre', 'acele', 'imi', 'îi', 'ului', 'careia', 'acelasi', 'altul', 'oricare', 'ăştia', 'nostri', 'mi', 'suntem', 'pina', 'puţină', 'atita', 'nimic', 'incit', 'deşi', 'sa-ti', 'mine', 'inainte', 'oricînd', 'ma', 'eu', 'toţi', 'multa', 'intre', 'niste', 'totul', 'tău', 'sus', 'ai', 'eram', 'fără', 'putini', 'decit', 'inca', 'fel', 'ba', 'eşti', 'săi', 'li', 'tot', 'adica', 'toata', 'îl', 'fiţi', 'tuturor', 'ca', 'cel', 'noastre', 'cine', 'acestei', 'si', 'noua', 'carora', 'aceşti', 'ati', 'unii', 'insa', 'sale', 'în', 'mă', 'vouă', 'îmi', 'isi', 'aş', 'sintem', 'căci', 'după', 'oricât', 'vor', 'oriunde', 'astea', 'toată'}\n"
     ]
    }
   ],
   "execution_count": 5
  },
  {
   "metadata": {},
   "cell_type": "markdown",
   "source": "Step 4: Aducerea cuvintelor la o forma cat mai asemanatoare -- Steaming",
   "id": "5b9bc6ceac1a2ed1"
  },
  {
   "metadata": {},
   "cell_type": "markdown",
   "source": "ex: running, runners -> run",
   "id": "5517ebfbdd75db7e"
  },
  {
   "metadata": {
    "ExecuteTime": {
     "end_time": "2025-03-11T13:29:05.459142Z",
     "start_time": "2025-03-11T13:29:05.453211Z"
    }
   },
   "cell_type": "code",
   "source": [
    "stemmer = PorterStemmer()\n",
    "words = [stemmer.stem(word) for word in words]"
   ],
   "id": "47659fa436b1a5ee",
   "outputs": [],
   "execution_count": 6
  },
  {
   "metadata": {},
   "cell_type": "markdown",
   "source": "Step 5: Lemmatization",
   "id": "d04a68e90361084b"
  },
  {
   "metadata": {},
   "cell_type": "markdown",
   "source": "Lemmatization is a text normalization technique in natural language processing (NLP) that reduces a word to its base or root form, known as a lemma. Unlike stemming, which simply removes prefixes or suffixes from words, lemmatization considers the context and part of speech of the word to produce a valid and meaningful lemma.",
   "id": "fcc61be091218bd5"
  },
  {
   "metadata": {
    "ExecuteTime": {
     "end_time": "2025-03-11T13:29:07.370417Z",
     "start_time": "2025-03-11T13:29:05.505229Z"
    }
   },
   "cell_type": "code",
   "source": [
    "lemmatizer = WordNetLemmatizer()\n",
    "words = [lemmatizer.lemmatize(word) for word in words]"
   ],
   "id": "4d636bd0c764f4be",
   "outputs": [],
   "execution_count": 7
  },
  {
   "metadata": {},
   "cell_type": "markdown",
   "source": "",
   "id": "f4025de209b968da"
  },
  {
   "metadata": {
    "ExecuteTime": {
     "end_time": "2025-03-11T13:29:07.398411Z",
     "start_time": "2025-03-11T13:29:07.392001Z"
    }
   },
   "cell_type": "code",
   "source": "print(f\"Cuvintele normalizate sunt {words}\")\n",
   "id": "5051417049331edc",
   "outputs": [
    {
     "name": "stdout",
     "output_type": "stream",
     "text": [
      "Cuvintele normalizate sunt ['mesaj', 'informar', 'cursul', 'și', 'laboratoarel', 'inteligență', 'artificială', 'provocar', 'toți', 'convinși', 'veți', 'realiza', 'proiect', 'interesant', 'încurajăm', 'adresați', 'întrebări', 'când', 'clar', 'atât', 'live', 'și', 'folosind', 'platforma', 'team', 'canalul', 'gener', 'ați', 'citit', 'rugăm', 'lăsați', 'mesaj', 'canalul', 'gener', 'textul', 'confiiiiiiiiiiiiiiiiiiiiiiiiiiiirm', 'citit', 'textul', 'problema', '3', 'lab2', '--', 'mesaj', 'informar', 'generat', 'chatgpt', 'stimați', 'cursanți', 'încântați', 'echipa', 'cursul', 'și', 'laboratoarel', 'inteligență', 'artificială', 'experiență', 'adevărată', 'provocar', 'convinși', 'veți', 'realiza', 'proiect', 'extrem', 'interesant', 'încurajăm', 'fiți', 'activi', 'și', 'adresați', 'întrebări', 'când', 'clar', 'vorba', 'discuți', 'timp', 'real', 'intermediul', 'platformei', 'team', 'canalul', 'gener', 'sprijinim', 'succ', 'și', 'înceapă', 'aventura', 'considerați', 'echipa', 'inteligență', 'artificială']\n"
     ]
    }
   ],
   "execution_count": 8
  }
 ],
 "metadata": {
  "kernelspec": {
   "display_name": "Python 3",
   "language": "python",
   "name": "python3"
  },
  "language_info": {
   "codemirror_mode": {
    "name": "ipython",
    "version": 2
   },
   "file_extension": ".py",
   "mimetype": "text/x-python",
   "name": "python",
   "nbconvert_exporter": "python",
   "pygments_lexer": "ipython2",
   "version": "2.7.6"
  }
 },
 "nbformat": 4,
 "nbformat_minor": 5
}
