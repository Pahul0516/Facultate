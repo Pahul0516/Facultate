{
 "cells": [
  {
   "cell_type": "code",
   "id": "initial_id",
   "metadata": {
    "collapsed": true,
    "ExecuteTime": {
     "end_time": "2025-03-10T21:40:09.674313Z",
     "start_time": "2025-03-10T21:40:09.666114Z"
    }
   },
   "source": [
    "import unicodedata\n",
    "import os\n",
    "from nltk.tokenize import word_tokenize, sent_tokenize\n",
    "from nltk.corpus import wordnet as wn\n",
    "import re\n",
    "\n",
    "dir = os.getcwd()\n",
    "file_path = os.path.join(dir,\"texts.txt\")\n",
    "with open(file_path, 'r', encoding='UTF-8') as f:\n",
    "    text = f.read()\n",
    "    f.close()"
   ],
   "outputs": [],
   "execution_count": 90
  },
  {
   "metadata": {},
   "cell_type": "markdown",
   "source": "Se da un fisier care contine un text (format din mai multe propozitii) in limba romana - a se vedea fisierul ”data/texts.txt”. Se cere sa se determine si sa se vizualizeze:",
   "id": "1bad867896d2f979"
  },
  {
   "metadata": {},
   "cell_type": "markdown",
   "source": "numarul de propozitii din text;",
   "id": "7611014ca5b47651"
  },
  {
   "metadata": {
    "ExecuteTime": {
     "end_time": "2025-03-10T21:40:09.705926Z",
     "start_time": "2025-03-10T21:40:09.700490Z"
    }
   },
   "cell_type": "code",
   "source": "print(len(sent_tokenize(text)))",
   "id": "c148a6bf02160095",
   "outputs": [
    {
     "name": "stdout",
     "output_type": "stream",
     "text": [
      "10\n"
     ]
    }
   ],
   "execution_count": 91
  },
  {
   "metadata": {},
   "cell_type": "markdown",
   "source": "numarul de cuvinte din text",
   "id": "be426f61fb0656d0"
  },
  {
   "metadata": {
    "ExecuteTime": {
     "end_time": "2025-03-10T21:40:09.756035Z",
     "start_time": "2025-03-10T21:40:09.748352Z"
    }
   },
   "cell_type": "code",
   "source": "print(len(word_tokenize(text)))",
   "id": "d9184787709b8680",
   "outputs": [
    {
     "name": "stdout",
     "output_type": "stream",
     "text": [
      "187\n"
     ]
    }
   ],
   "execution_count": 92
  },
  {
   "metadata": {},
   "cell_type": "markdown",
   "source": "numarul de cuvinte diferite din text",
   "id": "23ba1d158cbbdb99"
  },
  {
   "metadata": {
    "ExecuteTime": {
     "end_time": "2025-03-10T21:40:09.793937Z",
     "start_time": "2025-03-10T21:40:09.769409Z"
    }
   },
   "cell_type": "code",
   "source": "print(len(set(word_tokenize(text))))",
   "id": "d33b90536ab2b03e",
   "outputs": [
    {
     "name": "stdout",
     "output_type": "stream",
     "text": [
      "103\n"
     ]
    }
   ],
   "execution_count": 93
  },
  {
   "metadata": {},
   "cell_type": "markdown",
   "source": "cel mai scurt si cel mai lung cuvant (cuvinte)",
   "id": "c5a49cbab063eaec"
  },
  {
   "metadata": {
    "ExecuteTime": {
     "end_time": "2025-03-10T21:40:09.809852Z",
     "start_time": "2025-03-10T21:40:09.803675Z"
    }
   },
   "cell_type": "code",
   "source": [
    "words = [w for w in word_tokenize(text) if w.isalpha()]\n",
    "\n",
    "longest_word = max(words, key=len)\n",
    "shortest_word = min(words, key=len)\n",
    "print(f\"Longest word {longest_word}\")\n",
    "print(f\"Shortest word {shortest_word}\")"
   ],
   "id": "b2ca6ab19774b3b5",
   "outputs": [
    {
     "name": "stdout",
     "output_type": "stream",
     "text": [
      "Longest word Confiiiiiiiiiiiiiiiiiiiiiiiiiiiirm\n",
      "Shortest word o\n"
     ]
    }
   ],
   "execution_count": 94
  },
  {
   "metadata": {},
   "cell_type": "markdown",
   "source": "textul fara diacritice",
   "id": "6be14381159230f7"
  },
  {
   "metadata": {
    "ExecuteTime": {
     "end_time": "2025-03-10T21:40:09.955713Z",
     "start_time": "2025-03-10T21:40:09.949696Z"
    }
   },
   "cell_type": "code",
   "source": [
    "def remove_diacritics(text):\n",
    "    normalized_text = unicodedata.normalize('NFD', text)\n",
    "    return ''.join([c for c in normalized_text if unicodedata.category(c) != 'Mn'])\n",
    "\n",
    "print(text)\n",
    "print(f\"{\"\\033[36m\"}------------------------------------------------------------------{\"\\033[0m\"}\")\n",
    "print(remove_diacritics(text))"
   ],
   "id": "11a2420d4d9705e9",
   "outputs": [
    {
     "name": "stdout",
     "output_type": "stream",
     "text": [
      "Mesaj de informare:\n",
      "Cursul și laboratoarele de Inteligență Artificială vor fi o\n",
      "provocare pentru toți. Suntem convinși că veți realiza proiecte\n",
      "foarte interesante. Vă încurajăm să adresați întrebări atunci\n",
      "când ceva nu e clar, atât în mod live, cât și folosind platforma\n",
      "Teams, canalul ”general”.\n",
      "Dacă ați citit până aici, vă rugăm să lăsați un mesaj pe canalul\n",
      "general cu textul ”Confiiiiiiiiiiiiiiiiiiiiiiiiiiiirm că am citit\n",
      "textul pentru problema 3 din lab2”.\n",
      "--\n",
      "Mesaj de informare generat de ChatGPT:\n",
      "Stimați cursanți,\n",
      "Suntem încântați să vă avem în echipa noastră pentru Cursul și\n",
      "laboratoarele de Inteligență Artificială. Această experiență va\n",
      "fi o adevărată provocare, dar suntem convinși că veți realiza\n",
      "proiecte extrem de interesante.\n",
      "Vă încurajăm să fiți activi și să adresați întrebări atunci când\n",
      "ceva nu este clar. Fie că este vorba de o discuție în timp real\n",
      "sau prin intermediul platformei Teams, canalul ”general”, suntem\n",
      "aici să vă sprijinim.\n",
      "Succes și să înceapă aventura AI!\n",
      "Cu considerație, Echipa de Inteligență Artificială\n",
      "\u001B[36m------------------------------------------------------------------\u001B[0m\n",
      "Mesaj de informare:\n",
      "Cursul si laboratoarele de Inteligenta Artificiala vor fi o\n",
      "provocare pentru toti. Suntem convinsi ca veti realiza proiecte\n",
      "foarte interesante. Va incurajam sa adresati intrebari atunci\n",
      "cand ceva nu e clar, atat in mod live, cat si folosind platforma\n",
      "Teams, canalul ”general”.\n",
      "Daca ati citit pana aici, va rugam sa lasati un mesaj pe canalul\n",
      "general cu textul ”Confiiiiiiiiiiiiiiiiiiiiiiiiiiiirm ca am citit\n",
      "textul pentru problema 3 din lab2”.\n",
      "--\n",
      "Mesaj de informare generat de ChatGPT:\n",
      "Stimati cursanti,\n",
      "Suntem incantati sa va avem in echipa noastra pentru Cursul si\n",
      "laboratoarele de Inteligenta Artificiala. Aceasta experienta va\n",
      "fi o adevarata provocare, dar suntem convinsi ca veti realiza\n",
      "proiecte extrem de interesante.\n",
      "Va incurajam sa fiti activi si sa adresati intrebari atunci cand\n",
      "ceva nu este clar. Fie ca este vorba de o discutie in timp real\n",
      "sau prin intermediul platformei Teams, canalul ”general”, suntem\n",
      "aici sa va sprijinim.\n",
      "Succes si sa inceapa aventura AI!\n",
      "Cu consideratie, Echipa de Inteligenta Artificiala\n"
     ]
    }
   ],
   "execution_count": 95
  },
  {
   "metadata": {},
   "cell_type": "markdown",
   "source": "sinonimele celui mai lung cuvant din text",
   "id": "acc051b6933517c9"
  },
  {
   "metadata": {
    "ExecuteTime": {
     "end_time": "2025-03-10T21:40:10.031986Z",
     "start_time": "2025-03-10T21:40:10.025188Z"
    }
   },
   "cell_type": "code",
   "source": [
    "def remove_repeated_chars(word):\n",
    "    return re.sub(r'(.)\\1+', r'\\1', word)\n",
    "\n",
    "words = [w for w in word_tokenize(text) if w.isalpha()]\n",
    "longest_word = max(words, key=len)\n",
    "synsets = wn.synsets(remove_repeated_chars(longest_word))\n",
    "\n",
    "for synset in synsets:\n",
    "    for lemma in synset.lemmas():\n",
    "        print(lemma.name())"
   ],
   "id": "3135964821d15376",
   "outputs": [
    {
     "name": "stdout",
     "output_type": "stream",
     "text": [
      "confirm\n",
      "corroborate\n",
      "sustain\n",
      "substantiate\n",
      "support\n",
      "affirm\n",
      "confirm\n",
      "reassert\n",
      "confirm\n",
      "confirm\n",
      "confirm\n"
     ]
    }
   ],
   "execution_count": 96
  }
 ],
 "metadata": {
  "kernelspec": {
   "display_name": "Python 3",
   "language": "python",
   "name": "python3"
  },
  "language_info": {
   "codemirror_mode": {
    "name": "ipython",
    "version": 2
   },
   "file_extension": ".py",
   "mimetype": "text/x-python",
   "name": "python",
   "nbconvert_exporter": "python",
   "pygments_lexer": "ipython2",
   "version": "2.7.6"
  }
 },
 "nbformat": 4,
 "nbformat_minor": 5
}
