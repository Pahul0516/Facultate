{
 "cells": [
  {
   "cell_type": "markdown",
   "id": "9454284f64ec35c5",
   "metadata": {},
   "source": [
    "Specificaţi, implementaţi și testați subalgoritmi pentru problema enuntata. Sa se determine:"
   ]
  },
  {
   "cell_type": "markdown",
   "id": "db98f6878fcbea7c",
   "metadata": {},
   "source": [
    "Calitatea procesului de recunoastere a textului, atat la nivel de caracter, cat si la nivel de cuvant"
   ]
  },
  {
   "cell_type": "markdown",
   "id": "6b2ea021d7139187",
   "metadata": {},
   "source": [
    "a. prin folosirea unei metrici de distanta sau"
   ]
  },
  {
   "cell_type": "code",
   "execution_count": null,
   "id": "initial_id",
   "metadata": {
    "ExecuteTime": {
     "end_time": "2025-03-18T12:04:56.500957Z",
     "start_time": "2025-03-18T12:04:55.993687Z"
    },
    "collapsed": true
   },
   "outputs": [],
   "source": [
    "from azure.cognitiveservices.vision.computervision import ComputerVisionClient\n",
    "from azure.cognitiveservices.vision.computervision.models import OperationStatusCodes\n",
    "from azure.cognitiveservices.vision.computervision.models import VisualFeatureTypes\n",
    "from msrest.authentication import CognitiveServicesCredentials\n",
    "from array import array\n",
    "import os\n",
    "from PIL import Image\n",
    "import sys\n",
    "import time\n",
    "import os\n",
    "\n",
    "RED = \"\\033[31m\"\n",
    "GREEN = \"\\033[32m\"\n",
    "YELLOW = \"\\033[33m\"\n",
    "BLUE = \"\\033[34m\"\n",
    "MAGENTA = \"\\033[35m\"\n",
    "CYAN = \"\\033[36m\"\n",
    "WHITE = \"\\033[37m\"\n",
    "RESET = \"\\033[0m\"\n",
    "\n",
    "os.environ[\"VISION_KEY\"] =\"Your key\"\n",
    "os.environ[\"VISION_ENDPOINT\"] =\"Your endpoint\"\n",
    "subscription_key = os.environ[\"VISION_KEY\"]\n",
    "endpoint = os.environ[\"VISION_ENDPOINT\"]\n",
    "computervision_client = ComputerVisionClient(endpoint, CognitiveServicesCredentials(subscription_key))"
   ]
  },
  {
   "cell_type": "code",
   "execution_count": 2,
   "id": "bdcd5e1e8e8c4a0e",
   "metadata": {
    "ExecuteTime": {
     "end_time": "2025-03-18T12:04:56.524960Z",
     "start_time": "2025-03-18T12:04:56.517698Z"
    }
   },
   "outputs": [],
   "source": [
    "def levenshteinDistance(str1, str2):\n",
    "    # programare dinamica :(\n",
    "\n",
    "    n = len(str1) # lungimea sirului sursa\n",
    "    m = len(str2) # lungimea sirului target\n",
    "    dp = [[0 for _ in range(m + 1)] for _ in range(n + 1)]\n",
    "\n",
    "    # se initializeaza prima linie din matrice cu numere de la 0 la n\n",
    "    for i in range(n + 1):\n",
    "        dp[i][0] = i\n",
    "\n",
    "    # se initializeaza prima coloana din matrice cu numere de la 0 la m\n",
    "    for j in range(m + 1):\n",
    "        dp[0][j] = j\n",
    "\n",
    "    for i in range(1, n + 1):\n",
    "        for j in range(1, m + 1):\n",
    "            if str1[i - 1] == str2[j - 1]:  # daca valorile sunt egale atunci\n",
    "                dp[i][j] = dp[i - 1][j - 1] # atunci se ia valoare din stanga sus\n",
    "            else:\n",
    "                dp[i][j] = 1 + min(dp[i][j - 1], dp[i - 1][j], dp[i - 1][j - 1]) # se ia valoare din celilele de deasupra si stanga\n",
    "    return dp[n][m]"
   ]
  },
  {
   "cell_type": "code",
   "execution_count": 3,
   "id": "5a14d0c0ac3ade2d",
   "metadata": {
    "ExecuteTime": {
     "end_time": "2025-03-18T12:05:01.493268Z",
     "start_time": "2025-03-18T12:04:56.550682Z"
    }
   },
   "outputs": [
    {
     "name": "stdout",
     "output_type": "stream",
     "text": [
      "{'test1.jpg': ['Acesta este un test', 'Stiu ca nu scriu foarte frumos!'], 'test2.jpg': ['LIGHT', 'BOX'], 'test3.png': ['CEVA', 'IN', 'AI']}\n",
      "{'test1.jpg': ['Acesta este un test', 'Itra ca nu salía forete frumos!'], 'test2.jpg': ['LIGHT', 'BOX'], 'test3.png': ['CEVA', 'IN', 'Al']}\n"
     ]
    }
   ],
   "source": [
    "files = os.listdir('img')\n",
    "folder = 'img'\n",
    "\n",
    "groundTruth = {\n",
    "                'test1.jpg': ['Acesta este un test', 'Stiu ca nu scriu foarte frumos!'],\n",
    "                'test2.jpg': ['LIGHT', 'BOX'],\n",
    "                'test3.png': ['CEVA', 'IN', 'AI'],\n",
    "               }\n",
    "OCR_rez = dict()\n",
    "\n",
    "for file in files:\n",
    "    img = open(os.path.join(folder,file), \"rb\")\n",
    "    read_response = computervision_client.read_in_stream(\n",
    "    image=img,\n",
    "    mode=\"Printed\",\n",
    "    raw=True\n",
    "    )\n",
    "\n",
    "    operation_id = read_response.headers['Operation-Location'].split('/')[-1]\n",
    "    while True:\n",
    "        read_result = computervision_client.get_read_result(operation_id)\n",
    "        if read_result.status not in ['notStarted', 'running']:\n",
    "            break\n",
    "        time.sleep(1)\n",
    "\n",
    "\n",
    "    result = []\n",
    "    if read_result.status == OperationStatusCodes.succeeded:\n",
    "        for text_result in read_result.analyze_result.read_results:\n",
    "            for line in text_result.lines:\n",
    "                result.append(line.text)\n",
    "\n",
    "    if file not in OCR_rez:\n",
    "        OCR_rez[file] = result\n",
    "\n",
    "print(groundTruth)\n",
    "print(OCR_rez)\n"
   ]
  },
  {
   "cell_type": "code",
   "execution_count": 4,
   "id": "d50b3ea3bf73190f",
   "metadata": {
    "ExecuteTime": {
     "end_time": "2025-03-18T12:05:02.129406Z",
     "start_time": "2025-03-18T12:05:02.123083Z"
    }
   },
   "outputs": [
    {
     "name": "stdout",
     "output_type": "stream",
     "text": [
      "Calitatea procesului la nivel de caracter:\n",
      "    \u001b[36mtest1.jpg\u001b[0m\n",
      "        \u001b[32mAcesta\u001b[0m VS \u001b[31mAcesta\u001b[0m - diferenta: 0\n",
      "        \u001b[32meste\u001b[0m VS \u001b[31meste\u001b[0m - diferenta: 0\n",
      "        \u001b[32mun\u001b[0m VS \u001b[31mun\u001b[0m - diferenta: 0\n",
      "        \u001b[32mtest\u001b[0m VS \u001b[31mtest\u001b[0m - diferenta: 0\n",
      "        \u001b[32mStiu\u001b[0m VS \u001b[31mItra\u001b[0m - diferenta: 3\n",
      "        \u001b[32mca\u001b[0m VS \u001b[31mca\u001b[0m - diferenta: 0\n",
      "        \u001b[32mnu\u001b[0m VS \u001b[31mnu\u001b[0m - diferenta: 0\n",
      "        \u001b[32mscriu\u001b[0m VS \u001b[31msalía\u001b[0m - diferenta: 4\n",
      "        \u001b[32mfoarte\u001b[0m VS \u001b[31mforete\u001b[0m - diferenta: 2\n",
      "        \u001b[32mfrumos!\u001b[0m VS \u001b[31mfrumos!\u001b[0m - diferenta: 0\n",
      "    \u001b[36mtest2.jpg\u001b[0m\n",
      "        \u001b[32mLIGHT\u001b[0m VS \u001b[31mLIGHT\u001b[0m - diferenta: 0\n",
      "        \u001b[32mBOX\u001b[0m VS \u001b[31mBOX\u001b[0m - diferenta: 0\n",
      "    \u001b[36mtest3.png\u001b[0m\n",
      "        \u001b[32mCEVA\u001b[0m VS \u001b[31mCEVA\u001b[0m - diferenta: 0\n",
      "        \u001b[32mIN\u001b[0m VS \u001b[31mIN\u001b[0m - diferenta: 0\n",
      "        \u001b[32mAI\u001b[0m VS \u001b[31mAl\u001b[0m - diferenta: 1\n",
      "Calitatea procesului la nivel de cuvant:\n",
      "    \u001b[36mtest1.jpg\u001b[0m\n",
      "        \u001b[32mAcesta este un test\u001b[0m  \u001b[31mAcesta este un test\u001b[0m\n",
      "        \u001b[32mStiu ca nu scriu foarte frumos!\u001b[0m  \u001b[31mItra ca nu salía forete frumos!\u001b[0m\n",
      "        Numarul de cuvinte corecte este 7\n",
      "    \u001b[36mtest2.jpg\u001b[0m\n",
      "        \u001b[32mLIGHT\u001b[0m  \u001b[31mLIGHT\u001b[0m\n",
      "        \u001b[32mBOX\u001b[0m  \u001b[31mBOX\u001b[0m\n",
      "        Numarul de cuvinte corecte este 2\n",
      "    \u001b[36mtest3.png\u001b[0m\n",
      "        \u001b[32mCEVA\u001b[0m  \u001b[31mCEVA\u001b[0m\n",
      "        \u001b[32mIN\u001b[0m  \u001b[31mIN\u001b[0m\n",
      "        \u001b[32mAI\u001b[0m  \u001b[31mAl\u001b[0m\n",
      "        Numarul de cuvinte corecte este 2\n"
     ]
    }
   ],
   "source": [
    "print(\"Calitatea procesului la nivel de caracter:\")\n",
    "for file in OCR_rez:\n",
    "    print(f\"    {CYAN}{file}{RESET}\")\n",
    "    for line1, line2 in zip(groundTruth[file], OCR_rez[file]):\n",
    "        wordsGroundTruth = line1.split(' ')\n",
    "        wordsOCR = line2.split(' ')\n",
    "        for w1, w2 in zip(wordsGroundTruth, wordsOCR):\n",
    "            print(f\"        {GREEN}{w1}{RESET} VS {RED}{w2}{RESET} - diferenta: {levenshteinDistance(w1, w2)}\")\n",
    "\n",
    "print(\"Calitatea procesului la nivel de cuvant:\")\n",
    "for file in OCR_rez:\n",
    "    print(f\"    {CYAN}{file}{RESET}\")\n",
    "    noOfCorrectWords = 0\n",
    "    for line1, line2 in zip(groundTruth[file], OCR_rez[file]):\n",
    "        print(f\"        {GREEN}{line1}{RESET}  {RED}{line2}{RESET}\")\n",
    "        for w1, w2 in zip(line1.split(' '), line2.split(' ')):\n",
    "            if w1 == w2:\n",
    "                noOfCorrectWords += 1\n",
    "    print(f\"        Numarul de cuvinte corecte este {noOfCorrectWords}\")\n"
   ]
  },
  {
   "cell_type": "markdown",
   "id": "6a526d866c197f4c",
   "metadata": {},
   "source": [
    "b. prin folosirea mai multor metrici de distanta."
   ]
  },
  {
   "cell_type": "code",
   "execution_count": 5,
   "id": "4d8fab6b8e495912",
   "metadata": {
    "ExecuteTime": {
     "end_time": "2025-03-18T12:05:02.201422Z",
     "start_time": "2025-03-18T12:05:02.197438Z"
    }
   },
   "outputs": [],
   "source": [
    "def jaccard_similarity(text1, text2):\n",
    "    set1 = set(text1.lower().split())\n",
    "    set2 = set(text2.lower().split())\n",
    "    intersection = len(set1.intersection(set2))\n",
    "    union = len(set1.union(set2))\n",
    "    if union == 0:\n",
    "        return 0\n",
    "    else:\n",
    "        return intersection / union"
   ]
  },
  {
   "cell_type": "code",
   "execution_count": 6,
   "id": "67efe6073cbdc13a",
   "metadata": {
    "ExecuteTime": {
     "end_time": "2025-03-18T12:05:02.339590Z",
     "start_time": "2025-03-18T12:05:02.331145Z"
    }
   },
   "outputs": [
    {
     "name": "stdout",
     "output_type": "stream",
     "text": [
      "\u001b[33mCu Levenshtein\u001b[0m\n",
      "Calitatea procesului la nivel de caracter:\n",
      "    \u001b[36mtest1.jpg\u001b[0m\n",
      "        \u001b[32mAcesta\u001b[0m VS \u001b[31mAcesta\u001b[0m - diferenta: 0\n",
      "        \u001b[32meste\u001b[0m VS \u001b[31meste\u001b[0m - diferenta: 0\n",
      "        \u001b[32mun\u001b[0m VS \u001b[31mun\u001b[0m - diferenta: 0\n",
      "        \u001b[32mtest\u001b[0m VS \u001b[31mtest\u001b[0m - diferenta: 0\n",
      "        \u001b[32mStiu\u001b[0m VS \u001b[31mItra\u001b[0m - diferenta: 3\n",
      "        \u001b[32mca\u001b[0m VS \u001b[31mca\u001b[0m - diferenta: 0\n",
      "        \u001b[32mnu\u001b[0m VS \u001b[31mnu\u001b[0m - diferenta: 0\n",
      "        \u001b[32mscriu\u001b[0m VS \u001b[31msalía\u001b[0m - diferenta: 4\n",
      "        \u001b[32mfoarte\u001b[0m VS \u001b[31mforete\u001b[0m - diferenta: 2\n",
      "        \u001b[32mfrumos!\u001b[0m VS \u001b[31mfrumos!\u001b[0m - diferenta: 0\n",
      "    \u001b[36mtest2.jpg\u001b[0m\n",
      "        \u001b[32mLIGHT\u001b[0m VS \u001b[31mLIGHT\u001b[0m - diferenta: 0\n",
      "        \u001b[32mBOX\u001b[0m VS \u001b[31mBOX\u001b[0m - diferenta: 0\n",
      "    \u001b[36mtest3.png\u001b[0m\n",
      "        \u001b[32mCEVA\u001b[0m VS \u001b[31mCEVA\u001b[0m - diferenta: 0\n",
      "        \u001b[32mIN\u001b[0m VS \u001b[31mIN\u001b[0m - diferenta: 0\n",
      "        \u001b[32mAI\u001b[0m VS \u001b[31mAl\u001b[0m - diferenta: 1\n",
      "Calitatea procesului la nivel de cuvant:\n",
      "    \u001b[36mtest1.jpg\u001b[0m\n",
      "        \u001b[32mAcesta este un test\u001b[0m  \u001b[31mAcesta este un test\u001b[0m\n",
      "        \u001b[32mStiu ca nu scriu foarte frumos!\u001b[0m  \u001b[31mItra ca nu salía forete frumos!\u001b[0m\n",
      "        Numarul de cuvinte corecte este 7\n",
      "    \u001b[36mtest2.jpg\u001b[0m\n",
      "        \u001b[32mLIGHT\u001b[0m  \u001b[31mLIGHT\u001b[0m\n",
      "        \u001b[32mBOX\u001b[0m  \u001b[31mBOX\u001b[0m\n",
      "        Numarul de cuvinte corecte este 2\n",
      "    \u001b[36mtest3.png\u001b[0m\n",
      "        \u001b[32mCEVA\u001b[0m  \u001b[31mCEVA\u001b[0m\n",
      "        \u001b[32mIN\u001b[0m  \u001b[31mIN\u001b[0m\n",
      "        \u001b[32mAI\u001b[0m  \u001b[31mAl\u001b[0m\n",
      "        Numarul de cuvinte corecte este 2\n",
      "\u001b[33mCu Jaccard Similarity\u001b[0m\n",
      "Calitatea procesului la nivel de caracter:\n",
      "    \u001b[36mtest1.jpg\u001b[0m\n",
      "        \u001b[32mAcesta\u001b[0m VS \u001b[31mAcesta\u001b[0m - diferenta: 1.0\n",
      "        \u001b[32meste\u001b[0m VS \u001b[31meste\u001b[0m - diferenta: 1.0\n",
      "        \u001b[32mun\u001b[0m VS \u001b[31mun\u001b[0m - diferenta: 1.0\n",
      "        \u001b[32mtest\u001b[0m VS \u001b[31mtest\u001b[0m - diferenta: 1.0\n",
      "        \u001b[32mStiu\u001b[0m VS \u001b[31mItra\u001b[0m - diferenta: 0.0\n",
      "        \u001b[32mca\u001b[0m VS \u001b[31mca\u001b[0m - diferenta: 1.0\n",
      "        \u001b[32mnu\u001b[0m VS \u001b[31mnu\u001b[0m - diferenta: 1.0\n",
      "        \u001b[32mscriu\u001b[0m VS \u001b[31msalía\u001b[0m - diferenta: 0.0\n",
      "        \u001b[32mfoarte\u001b[0m VS \u001b[31mforete\u001b[0m - diferenta: 0.0\n",
      "        \u001b[32mfrumos!\u001b[0m VS \u001b[31mfrumos!\u001b[0m - diferenta: 1.0\n",
      "    \u001b[36mtest2.jpg\u001b[0m\n",
      "        \u001b[32mLIGHT\u001b[0m VS \u001b[31mLIGHT\u001b[0m - diferenta: 1.0\n",
      "        \u001b[32mBOX\u001b[0m VS \u001b[31mBOX\u001b[0m - diferenta: 1.0\n",
      "    \u001b[36mtest3.png\u001b[0m\n",
      "        \u001b[32mCEVA\u001b[0m VS \u001b[31mCEVA\u001b[0m - diferenta: 1.0\n",
      "        \u001b[32mIN\u001b[0m VS \u001b[31mIN\u001b[0m - diferenta: 1.0\n",
      "        \u001b[32mAI\u001b[0m VS \u001b[31mAl\u001b[0m - diferenta: 0.0\n",
      "Calitatea procesului la nivel de cuvant:\n",
      "    \u001b[36mtest1.jpg\u001b[0m\n",
      "        \u001b[32mAcesta este un test\u001b[0m  \u001b[31mAcesta este un test\u001b[0m\n",
      "        \u001b[32mStiu ca nu scriu foarte frumos!\u001b[0m  \u001b[31mItra ca nu salía forete frumos!\u001b[0m\n",
      "        Numarul de cuvinte corecte este 7\n",
      "    \u001b[36mtest2.jpg\u001b[0m\n",
      "        \u001b[32mLIGHT\u001b[0m  \u001b[31mLIGHT\u001b[0m\n",
      "        \u001b[32mBOX\u001b[0m  \u001b[31mBOX\u001b[0m\n",
      "        Numarul de cuvinte corecte este 2\n",
      "    \u001b[36mtest3.png\u001b[0m\n",
      "        \u001b[32mCEVA\u001b[0m  \u001b[31mCEVA\u001b[0m\n",
      "        \u001b[32mIN\u001b[0m  \u001b[31mIN\u001b[0m\n",
      "        \u001b[32mAI\u001b[0m  \u001b[31mAl\u001b[0m\n",
      "        Numarul de cuvinte corecte este 2\n"
     ]
    }
   ],
   "source": [
    "print(f\"{YELLOW}Cu Levenshtein{RESET}\")\n",
    "\n",
    "print(\"Calitatea procesului la nivel de caracter:\")\n",
    "for file in OCR_rez:\n",
    "    print(f\"    {CYAN}{file}{RESET}\")\n",
    "    for line1, line2 in zip(groundTruth[file], OCR_rez[file]):\n",
    "        wordsGroundTruth = line1.split(' ')\n",
    "        wordsOCR = line2.split(' ')\n",
    "        for w1, w2 in zip(wordsGroundTruth, wordsOCR):\n",
    "            print(f\"        {GREEN}{w1}{RESET} VS {RED}{w2}{RESET} - diferenta: {levenshteinDistance(w1, w2)}\")\n",
    "\n",
    "print(\"Calitatea procesului la nivel de cuvant:\")\n",
    "for file in OCR_rez:\n",
    "    print(f\"    {CYAN}{file}{RESET}\")\n",
    "    noOfCorrectWords = 0\n",
    "    for line1, line2 in zip(groundTruth[file], OCR_rez[file]):\n",
    "        print(f\"        {GREEN}{line1}{RESET}  {RED}{line2}{RESET}\")\n",
    "        for w1, w2 in zip(line1.split(' '), line2.split(' ')):\n",
    "            if w1 == w2:\n",
    "                noOfCorrectWords += 1\n",
    "    print(f\"        Numarul de cuvinte corecte este {noOfCorrectWords}\")\n",
    "\n",
    "\n",
    "print(f\"{YELLOW}Cu Jaccard Similarity{RESET}\")\n",
    "\n",
    "print(\"Calitatea procesului la nivel de caracter:\")\n",
    "for file in OCR_rez:\n",
    "    print(f\"    {CYAN}{file}{RESET}\")\n",
    "    for line1, line2 in zip(groundTruth[file], OCR_rez[file]):\n",
    "        wordsGroundTruth = line1.split(' ')\n",
    "        wordsOCR = line2.split(' ')\n",
    "        for w1, w2 in zip(wordsGroundTruth, wordsOCR):\n",
    "            print(f\"        {GREEN}{w1}{RESET} VS {RED}{w2}{RESET} - diferenta: {jaccard_similarity(w1, w2)}\")\n",
    "\n",
    "print(\"Calitatea procesului la nivel de cuvant:\")\n",
    "for file in OCR_rez:\n",
    "    print(f\"    {CYAN}{file}{RESET}\")\n",
    "    noOfCorrectWords = 0\n",
    "    for line1, line2 in zip(groundTruth[file], OCR_rez[file]):\n",
    "        print(f\"        {GREEN}{line1}{RESET}  {RED}{line2}{RESET}\")\n",
    "        for w1, w2 in zip(line1.split(' '), line2.split(' ')):\n",
    "            if w1 == w2:\n",
    "                noOfCorrectWords += 1\n",
    "    print(f\"        Numarul de cuvinte corecte este {noOfCorrectWords}\")"
   ]
  },
  {
   "cell_type": "markdown",
   "id": "997ed08d9223f0c6",
   "metadata": {},
   "source": [
    "La Jaccard se face intersectia/reuniune iar la Levenshtein se face prin matricea de editare (programare dinamica)"
   ]
  }
 ],
 "metadata": {
  "kernelspec": {
   "display_name": "Python 3",
   "language": "python",
   "name": "python3"
  },
  "language_info": {
   "codemirror_mode": {
    "name": "ipython",
    "version": 2
   },
   "file_extension": ".py",
   "mimetype": "text/x-python",
   "name": "python",
   "nbconvert_exporter": "python",
   "pygments_lexer": "ipython2",
   "version": "2.7.6"
  }
 },
 "nbformat": 4,
 "nbformat_minor": 5
}
