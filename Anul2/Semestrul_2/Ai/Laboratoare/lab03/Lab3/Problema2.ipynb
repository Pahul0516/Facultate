{
 "cells": [
  {
   "cell_type": "markdown",
   "id": "a2be20a8e8a38c3b",
   "metadata": {},
   "source": [
    "calitatea localizarii corecte a textului in imagine"
   ]
  },
  {
   "cell_type": "code",
   "execution_count": null,
   "id": "63ac1adeaae8ab58",
   "metadata": {
    "ExecuteTime": {
     "end_time": "2025-03-18T12:07:09.381808Z",
     "start_time": "2025-03-18T12:07:08.847425Z"
    }
   },
   "outputs": [],
   "source": [
    "from azure.cognitiveservices.vision.computervision import ComputerVisionClient\n",
    "from azure.cognitiveservices.vision.computervision.models import OperationStatusCodes\n",
    "from azure.cognitiveservices.vision.computervision.models import VisualFeatureTypes\n",
    "from msrest.authentication import CognitiveServicesCredentials\n",
    "from array import array\n",
    "import os\n",
    "from PIL import Image\n",
    "import sys\n",
    "import time\n",
    "import os\n",
    "from shapely.geometry import Polygon\n",
    "\n",
    "os.environ[\"VISION_KEY\"] =\"Your_key\"\n",
    "os.environ[\"VISION_ENDPOINT\"] =\"https://berindeiepaulmihai.cognitiveservices.azure.com/\"\n",
    "subscription_key = os.environ[\"VISION_KEY\"]\n",
    "endpoint = os.environ[\"VISION_ENDPOINT\"]\n",
    "computervision_client = ComputerVisionClient(endpoint, CognitiveServicesCredentials(subscription_key))"
   ]
  },
  {
   "cell_type": "code",
   "execution_count": 2,
   "id": "initial_id",
   "metadata": {
    "ExecuteTime": {
     "end_time": "2025-03-18T12:07:14.002584Z",
     "start_time": "2025-03-18T12:07:09.390597Z"
    },
    "collapsed": true
   },
   "outputs": [
    {
     "name": "stdout",
     "output_type": "stream",
     "text": [
      "{'test1.jpg': [[534.0, 261.0, 572.0, 947.0, 501.0, 953.0, 453.0, 261.0], [409.0, 277.0, 517.0, 1362.0, 437.0, 1365.0, 336.0, 283.0]], 'test2.jpg': [[109.0, 98.0, 487.0, 101.0, 485.0, 214.0, 108.0, 211.0], [156.0, 210.0, 443.0, 205.0, 444.0, 315.0, 158.0, 316.0]], 'test3.png': [[221.0, 128.0, 1023.0, 187.0, 1005.0, 429.0, 210.0, 320.0], [230.0, 477.0, 466.0, 480.0, 469.0, 655.0, 233.0, 651.0], [308.0, 797.0, 547.0, 774.0, 562.0, 940.0, 319.0, 956.0]]}\n"
     ]
    }
   ],
   "source": [
    "def get_bounding_boxes(read_result):\n",
    "    boxes = []\n",
    "    if read_result.status == OperationStatusCodes.succeeded:\n",
    "        for text_result in read_result.analyze_result.read_results:\n",
    "            for line in text_result.lines:\n",
    "                boxes.append(line.bounding_box)\n",
    "    return boxes\n",
    "\n",
    "\n",
    "files = os.listdir('img')\n",
    "folder = 'img'\n",
    "\n",
    "Box_rez = dict()\n",
    "\n",
    "for file in files:\n",
    "    img = open(os.path.join(folder, file), \"rb\")\n",
    "    read_response = computervision_client.read_in_stream(\n",
    "        image=img,\n",
    "        mode=\"Printed\",\n",
    "        raw=True\n",
    "    )\n",
    "\n",
    "    operation_id = read_response.headers['Operation-Location'].split('/')[-1]\n",
    "    while True:\n",
    "        read_result = computervision_client.get_read_result(operation_id)\n",
    "        if read_result.status not in ['notStarted', 'running']:\n",
    "            break\n",
    "        time.sleep(1)\n",
    "    if file not in Box_rez:\n",
    "        Box_rez[file] = get_bounding_boxes(read_result)\n",
    "\n",
    "print(Box_rez)"
   ]
  },
  {
   "cell_type": "code",
   "execution_count": 3,
   "id": "df00fe8e79b10fa3",
   "metadata": {
    "ExecuteTime": {
     "end_time": "2025-03-18T12:07:14.382894Z",
     "start_time": "2025-03-18T12:07:14.318899Z"
    }
   },
   "outputs": [
    {
     "name": "stdout",
     "output_type": "stream",
     "text": [
      "Pentru poza test1.jpg, proportia este 86.48800054663172%\n",
      "Pentru poza test2.jpg, proportia este 86.16411124063188%\n",
      "Pentru poza test3.png, proportia este 87.56563116526715%\n"
     ]
    }
   ],
   "source": [
    "def calculate_proportion(box1, box2):\n",
    "\n",
    "    polygon1 = Polygon([(box1[0], box1[1]), (box1[2], box1[3]),\n",
    "                     (box1[4], box1[5]), (box1[6], box1[7])])\n",
    "\n",
    "    polygon2 = Polygon([(box2[0], box2[1]), (box2[2], box2[3]),\n",
    "                     (box2[4], box2[5]), (box2[6], box2[7])])\n",
    "\n",
    "    intersection_area = polygon1.intersection(polygon2).area\n",
    "    union_area = polygon1.area + polygon2.area - intersection_area\n",
    "    return intersection_area / union_area if union_area > 0 else 0.0\n",
    "\n",
    "groundTruth = {\n",
    "    'test1.jpg': [[534.0, 246.0, 578.0, 945.0, 501.0, 963.0, 457.0, 281.0], [409.0, 273.0, 511.0, 1362.0, 442.0, 1315.0, 346.0, 273.0]],\n",
    "    'test2.jpg': [[109.0, 100.0, 480.0, 109.0, 475.0, 216.0, 128.0, 212.0], [156.0, 220.0, 444.0, 202.0, 441.0, 345.0, 138.0, 312.0]],\n",
    "    'test3.png': [[224.0, 125.0, 1033.0, 196.0, 1025.0, 419.0, 220.0, 325.0], [238.0, 475.0, 470.0, 460.0, 463.0, 625.0, 213.0, 691.0], [318.0, 805.0, 577.0, 775.0, 567.0, 941.0, 314.0, 952.0]]\n",
    "}\n",
    "\n",
    "for file in Box_rez:\n",
    "    s = 0\n",
    "    c = 0\n",
    "    for box1, box2 in zip(Box_rez[file],groundTruth[file]):\n",
    "        s = s + calculate_proportion(box1, box2)\n",
    "        c += 1\n",
    "    print(f\"Pentru poza {file}, proportia este {s/c*100}%\")"
   ]
  },
  {
   "cell_type": "code",
   "execution_count": null,
   "id": "1633dbf20c6caf5e",
   "metadata": {
    "ExecuteTime": {
     "end_time": "2025-03-18T12:07:14.498800Z",
     "start_time": "2025-03-18T12:07:14.494071Z"
    }
   },
   "outputs": [],
   "source": []
  }
 ],
 "metadata": {
  "kernelspec": {
   "display_name": "Python 3",
   "language": "python",
   "name": "python3"
  },
  "language_info": {
   "codemirror_mode": {
    "name": "ipython",
    "version": 2
   },
   "file_extension": ".py",
   "mimetype": "text/x-python",
   "name": "python",
   "nbconvert_exporter": "python",
   "pygments_lexer": "ipython2",
   "version": "2.7.6"
  }
 },
 "nbformat": 4,
 "nbformat_minor": 5
}
