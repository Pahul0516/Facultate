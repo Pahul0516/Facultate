{
 "cells": [
  {
   "metadata": {
    "ExecuteTime": {
     "end_time": "2025-05-07T13:10:30.117324Z",
     "start_time": "2025-05-07T13:10:04.832676Z"
    }
   },
   "cell_type": "code",
   "source": [
    "import numpy as np\n",
    "from PIL import Image\n",
    "import os\n",
    "import io\n",
    "from sklearn import neural_network\n",
    "from sklearn.metrics import accuracy_score, classification_report\n",
    "from sklearn.metrics import confusion_matrix, ConfusionMatrixDisplay\n",
    "\n",
    "# Resize and flatten images\n",
    "def resize_and_flatten(images, target_size=(64, 64)):\n",
    "    resized_images = []\n",
    "    for img in images:\n",
    "        img_resized = img.resize(target_size)\n",
    "        img_array = np.array(img_resized)\n",
    "        img_flattened = img_array.flatten()\n",
    "        resized_images.append(img_flattened)\n",
    "    return np.array(resized_images)\n",
    "\n",
    "# Load the images and labels\n",
    "def loadData():\n",
    "    currentPath = os.getcwd()\n",
    "    currentPath = os.path.join(currentPath, \"Photos\")\n",
    "    inputs = []\n",
    "    outputs = []\n",
    "\n",
    "    for file in os.listdir(currentPath):\n",
    "        if \"person\" in file:\n",
    "            outputs.append(\"Normal\")\n",
    "        else:\n",
    "            outputs.append(\"Sepia\")\n",
    "\n",
    "        file_path = os.path.join(currentPath, file)\n",
    "        with open(file_path, mode=\"rb\") as f:\n",
    "            image = Image.open(io.BytesIO(f.read()))\n",
    "            image = image.convert('RGB')  # Ensure the image is RGB\n",
    "            inputs.append(image)\n",
    "\n",
    "    return inputs, outputs\n",
    "\n",
    "# Split the dataset into train/test\n",
    "def splitData(inputs, outputs):\n",
    "    np.random.seed(5)\n",
    "    indexes = [i for i in range(len(inputs))]\n",
    "    trainSample = np.random.choice(indexes, int(0.7 * len(inputs)), replace=False)\n",
    "    testSample = [i for i in indexes if i not in trainSample]\n",
    "\n",
    "    trainInputs = [inputs[i] for i in trainSample]\n",
    "    trainOutputs = [outputs[i] for i in trainSample]\n",
    "    testInputs = [inputs[i] for i in testSample]\n",
    "    testOutputs = [outputs[i] for i in testSample]\n",
    "\n",
    "    return trainInputs, trainOutputs, testInputs, testOutputs\n",
    "\n",
    "inputs, outputs = loadData()\n",
    "\n",
    "inputs_resized_flattened = resize_and_flatten(inputs, target_size=(32, 32))\n",
    "\n",
    "trainInputs, trainOutputs, testInputs, testOutputs = splitData(inputs_resized_flattened, outputs)\n",
    "\n",
    "trainInputs = np.array(trainInputs) / 255.0\n",
    "testInputs = np.array(testInputs) / 255.0\n",
    "\n",
    "classifier = neural_network.MLPClassifier(\n",
    "        hidden_layer_sizes=(5,),\n",
    "        activation='relu',\n",
    "        solver='adam',\n",
    "        max_iter=10,\n",
    "        learning_rate_init=0.001,\n",
    "        random_state=1,\n",
    "        verbose=10\n",
    "    )\n",
    "\n",
    "classifier.fit(trainInputs, trainOutputs)\n",
    "\n",
    "predictions = classifier.predict(testInputs)\n",
    "\n",
    "print(\"Predictions on test data:\", predictions)\n",
    "print(\"Actual test labels:\", testOutputs)\n",
    "\n",
    "accuracy = accuracy_score(testOutputs, predictions)\n",
    "print(f\"Accuracy: {accuracy:.4f}\")\n",
    "\n",
    "print(\"Classification Report:\")\n",
    "print(classification_report(testOutputs, predictions))\n",
    "\n",
    "cm = confusion_matrix(testOutputs, predictions, labels=[\"Normal\", \"Sepia\"])\n",
    "\n",
    "disp = ConfusionMatrixDisplay(confusion_matrix=cm, display_labels=[\"Normal\", \"Sepia\"])\n",
    "disp.plot(cmap='Blues')"
   ],
   "id": "75a80e0c4d4409ee",
   "outputs": [
    {
     "name": "stdout",
     "output_type": "stream",
     "text": [
      "Iteration 1, loss = 0.71296209\n",
      "Iteration 2, loss = 0.64989665\n",
      "Iteration 3, loss = 0.59543560\n",
      "Iteration 4, loss = 0.53853451\n",
      "Iteration 5, loss = 0.49110170\n",
      "Iteration 6, loss = 0.44370926\n",
      "Iteration 7, loss = 0.40245409\n",
      "Iteration 8, loss = 0.36778071\n",
      "Iteration 9, loss = 0.33459330\n",
      "Iteration 10, loss = 0.30620506\n",
      "Predictions on test data: ['Sepia' 'Normal' 'Normal' 'Normal' 'Normal' 'Normal' 'Normal' 'Sepia'\n",
      " 'Sepia' 'Sepia' 'Normal' 'Sepia' 'Sepia' 'Sepia' 'Sepia']\n",
      "Actual test labels: ['Normal', 'Normal', 'Normal', 'Normal', 'Normal', 'Normal', 'Normal', 'Sepia', 'Sepia', 'Sepia', 'Sepia', 'Sepia', 'Sepia', 'Sepia', 'Sepia']\n",
      "Accuracy: 0.8667\n",
      "Classification Report:\n",
      "              precision    recall  f1-score   support\n",
      "\n",
      "      Normal       0.86      0.86      0.86         7\n",
      "       Sepia       0.88      0.88      0.88         8\n",
      "\n",
      "    accuracy                           0.87        15\n",
      "   macro avg       0.87      0.87      0.87        15\n",
      "weighted avg       0.87      0.87      0.87        15\n",
      "\n"
     ]
    },
    {
     "name": "stderr",
     "output_type": "stream",
     "text": [
      "C:\\Users\\berin\\PycharmProjects\\Lab7\\.venv\\Lib\\site-packages\\sklearn\\neural_network\\_multilayer_perceptron.py:691: ConvergenceWarning: Stochastic Optimizer: Maximum iterations (10) reached and the optimization hasn't converged yet.\n",
      "  warnings.warn(\n"
     ]
    },
    {
     "data": {
      "text/plain": [
       "<sklearn.metrics._plot.confusion_matrix.ConfusionMatrixDisplay at 0x1b6ffeef4d0>"
      ]
     },
     "execution_count": 1,
     "metadata": {},
     "output_type": "execute_result"
    },
    {
     "data": {
      "text/plain": [
       "<Figure size 640x480 with 2 Axes>"
      ],
      "image/png": "[encoded data removed]"
     },
     "metadata": {},
     "output_type": "display_data"
    }
   ],
   "execution_count": 1
  },
  {
   "metadata": {
    "ExecuteTime": {
     "end_time": "2025-04-29T10:50:55.091445Z",
     "start_time": "2025-04-29T10:50:55.086697Z"
    }
   },
   "cell_type": "code",
   "source": "",
   "id": "33ff509269f90716",
   "outputs": [],
   "execution_count": null
  }
 ],
 "metadata": {
  "kernelspec": {
   "display_name": "Python 3",
   "language": "python",
   "name": "python3"
  },
  "language_info": {
   "codemirror_mode": {
    "name": "ipython",
    "version": 2
   },
   "file_extension": ".py",
   "mimetype": "text/x-python",
   "name": "python",
   "nbconvert_exporter": "python",
   "pygments_lexer": "ipython2",
   "version": "2.7.6"
  }
 },
 "nbformat": 4,
 "nbformat_minor": 5
}
