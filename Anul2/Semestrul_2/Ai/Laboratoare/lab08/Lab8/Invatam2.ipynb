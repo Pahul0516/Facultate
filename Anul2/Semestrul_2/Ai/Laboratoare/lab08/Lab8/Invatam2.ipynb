{
 "cells": [
  {
   "cell_type": "code",
   "id": "initial_id",
   "metadata": {
    "collapsed": true,
    "ExecuteTime": {
     "end_time": "2025-05-05T12:14:38.643004Z",
     "start_time": "2025-05-05T12:14:38.471722Z"
    }
   },
   "source": [
    "# [START analyze_sentiment]\n",
    "import os\n",
    "from azure.core.credentials import AzureKeyCredential\n",
    "from azure.ai.textanalytics import TextAnalyticsClient"
   ],
   "outputs": [],
   "execution_count": 1
  },
  {
   "metadata": {
    "ExecuteTime": {
     "end_time": "2025-05-05T12:15:02.054587Z",
     "start_time": "2025-05-05T12:15:02.045432Z"
    }
   },
   "cell_type": "code",
   "source": [
    "endpoint = \"https://paulberindeiemihai.cognitiveservices.azure.com/\"\n",
    "key = \"EQuQSv7urwg1oPumitD0jLvu8IPPFfvWG7puE1KQvPNqwupUQ1LIJQQJ99BEAC5RqLJXJ3w3AAAaACOGIkzc\"\n",
    "\n",
    "client = TextAnalyticsClient(endpoint=endpoint, credential=AzureKeyCredential(key))"
   ],
   "id": "fa20cb0ffe0d8db4",
   "outputs": [],
   "execution_count": 4
  },
  {
   "metadata": {
    "ExecuteTime": {
     "end_time": "2025-05-05T12:18:51.488222Z",
     "start_time": "2025-05-05T12:18:47.206793Z"
    }
   },
   "cell_type": "code",
   "source": [
    "documents = [\n",
    "    \"I had the best day of my life. I decided to go sky-diving and it made me appreciate my whole life so much more. I developed a deep-connection with my instructor as well, and I feel as if I've made a life-long friend in her.\",\n",
    "    \"This was a waste of my time. All of the views on this drop are extremely boring, all I saw was grass. 0/10 would not recommend to any divers, even first timers.\",\n",
    "    \"This was pretty good! The sights were ok, and I had fun with my instructors! Can't complain too much about my experience\",\n",
    "    \"I only have one word for my experience: WOW!!! I can't believe I have had such a wonderful skydiving company right in my backyard this whole time! I will definitely be a repeat customer, and I want to take my grandmother skydiving too, I know she'll love it!\"\n",
    "]\n",
    "\n",
    "result = client.analyze_sentiment(documents, show_opinion_mining=True)\n",
    "docs = [doc for doc in result if not doc.is_error]\n",
    "\n",
    "print(\"Let's visualize the sentiment of each of these documents\")\n",
    "for idx, doc in enumerate(docs):\n",
    "    print(f\"Document text: {documents[idx]}\")\n",
    "    print(f\"Overall sentiment: {doc.sentiment}\")"
   ],
   "id": "f2e5a91ea6922a11",
   "outputs": [
    {
     "name": "stdout",
     "output_type": "stream",
     "text": [
      "Let's visualize the sentiment of each of these documents\n",
      "Document text: I had the best day of my life. I decided to go sky-diving and it made me appreciate my whole life so much more. I developed a deep-connection with my instructor as well, and I feel as if I've made a life-long friend in her.\n",
      "Overall sentiment: positive\n",
      "Document text: This was a waste of my time. All of the views on this drop are extremely boring, all I saw was grass. 0/10 would not recommend to any divers, even first timers.\n",
      "Overall sentiment: negative\n",
      "Document text: This was pretty good! The sights were ok, and I had fun with my instructors! Can't complain too much about my experience\n",
      "Overall sentiment: positive\n",
      "Document text: I only have one word for my experience: WOW!!! I can't believe I have had such a wonderful skydiving company right in my backyard this whole time! I will definitely be a repeat customer, and I want to take my grandmother skydiving too, I know she'll love it!\n",
      "Overall sentiment: positive\n"
     ]
    }
   ],
   "execution_count": 6
  }
 ],
 "metadata": {
  "kernelspec": {
   "display_name": "Python 3",
   "language": "python",
   "name": "python3"
  },
  "language_info": {
   "codemirror_mode": {
    "name": "ipython",
    "version": 2
   },
   "file_extension": ".py",
   "mimetype": "text/x-python",
   "name": "python",
   "nbconvert_exporter": "python",
   "pygments_lexer": "ipython2",
   "version": "2.7.6"
  }
 },
 "nbformat": 4,
 "nbformat_minor": 5
}
