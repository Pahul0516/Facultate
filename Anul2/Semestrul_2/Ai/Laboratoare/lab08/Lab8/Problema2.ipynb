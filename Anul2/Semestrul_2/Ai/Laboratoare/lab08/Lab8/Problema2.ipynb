{
 "cells": [
  {
   "cell_type": "code",
   "id": "initial_id",
   "metadata": {
    "collapsed": true,
    "ExecuteTime": {
     "end_time": "2025-05-05T13:09:54.530412Z",
     "start_time": "2025-05-05T13:09:54.269423Z"
    }
   },
   "source": [
    "import pandas as pd\n",
    "import os\n",
    "from sklearn.model_selection import train_test_split\n",
    "from sklearn.feature_extraction.text import TfidfVectorizer\n",
    "from sklearn.neural_network import MLPClassifier\n",
    "from sklearn.metrics import classification_report\n",
    "\n",
    "crtDir =  os.getcwd()\n",
    "fileName = os.path.join(crtDir, 'data', 'reviews_mixed.csv')\n",
    "\n",
    "# Load your dataset\n",
    "data = pd.read_csv(fileName)\n",
    "\n",
    "# Preprocess the data\n",
    "X = data['Text']\n",
    "y = data['Sentiment']\n",
    "\n",
    "# Encode sentiment labels as numbers (positive=1, neutral=0, negative=-1)\n",
    "y = y.map({'positive': 1, 'negative': -1})\n",
    "\n",
    "# Split into training and testing sets\n",
    "X_train, X_test, y_train, y_test = train_test_split(X, y, test_size=0.2, random_state=42)\n",
    "\n",
    "# Convert text data to numerical features using TF-IDF\n",
    "vectorizer = TfidfVectorizer(max_features=1000)\n",
    "X_train_tfidf = vectorizer.fit_transform(X_train)\n",
    "X_test_tfidf = vectorizer.transform(X_test)\n",
    "\n",
    "# Build the MLPClassifier model\n",
    "model = MLPClassifier(hidden_layer_sizes=(100, 50), max_iter=1000, activation='relu', random_state=42)\n",
    "\n",
    "# Train the model\n",
    "model.fit(X_train_tfidf, y_train)\n",
    "\n",
    "# Evaluate the model\n",
    "y_pred = model.predict(X_test_tfidf)\n",
    "\n",
    "# Print the classification report\n",
    "print(classification_report(y_test, y_pred))\n",
    "\n",
    "# Example of prediction\n",
    "sample_text = \"I absolutely love the new design!\"\n",
    "sample_text_tfidf = vectorizer.transform([sample_text])\n",
    "prediction = model.predict(sample_text_tfidf)\n",
    "sentiment = 'positive' if prediction == 1 else 'negative'\n",
    "print(f\"Predicted sentiment: {sentiment}\")\n"
   ],
   "outputs": [
    {
     "name": "stdout",
     "output_type": "stream",
     "text": [
      "              precision    recall  f1-score   support\n",
      "\n",
      "          -1       0.81      0.87      0.84        30\n",
      "           1       0.60      0.50      0.55        12\n",
      "\n",
      "    accuracy                           0.76        42\n",
      "   macro avg       0.71      0.68      0.69        42\n",
      "weighted avg       0.75      0.76      0.75        42\n",
      "\n",
      "Predicted sentiment: positive\n"
     ]
    }
   ],
   "execution_count": 3
  },
  {
   "metadata": {},
   "cell_type": "code",
   "outputs": [],
   "execution_count": null,
   "source": "",
   "id": "b2eebc8f61d80a69"
  }
 ],
 "metadata": {
  "kernelspec": {
   "display_name": "Python 3",
   "language": "python",
   "name": "python3"
  },
  "language_info": {
   "codemirror_mode": {
    "name": "ipython",
    "version": 2
   },
   "file_extension": ".py",
   "mimetype": "text/x-python",
   "name": "python",
   "nbconvert_exporter": "python",
   "pygments_lexer": "ipython2",
   "version": "2.7.6"
  }
 },
 "nbformat": 4,
 "nbformat_minor": 5
}
