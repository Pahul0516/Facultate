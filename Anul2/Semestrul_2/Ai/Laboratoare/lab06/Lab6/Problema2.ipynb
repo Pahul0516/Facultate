{
 "cells": [
  {
   "cell_type": "code",
   "id": "initial_id",
   "metadata": {
    "collapsed": true,
    "ExecuteTime": {
     "end_time": "2025-04-08T09:35:10.263399Z",
     "start_time": "2025-04-08T09:35:10.243942Z"
    }
   },
   "source": [
    "import pandas as pd\n",
    "from sklearn.model_selection import train_test_split\n",
    "from sklearn.preprocessing import StandardScaler\n",
    "from sklearn.linear_model import LogisticRegression\n",
    "from sklearn.metrics import accuracy_score, classification_report\n",
    "\n",
    "column_names = [\n",
    "    'ID', 'diagnosis', 'radius1', 'texture1', 'perimeter1', 'area1', 'smoothness1', 'compactness1',\n",
    "    'concavity1', 'concave_points1', 'symmetry1', 'fractal_dimension1', 'radius2', 'texture2', 'perimeter2',\n",
    "    'area2', 'smoothness2', 'compactness2', 'concavity2', 'concave_points2', 'symmetry2', 'fractal_dimension2',\n",
    "    'radius3', 'texture3', 'perimeter3', 'area3', 'smoothness3', 'compactness3', 'concavity3',\n",
    "    'concave_points3', 'symmetry3', 'fractal_dimension3'\n",
    "]\n",
    "\n",
    "df = pd.read_csv('data/wdbc.csv', header=None, names = column_names)\n",
    "\n",
    "X = df[['radius1', 'texture1']]  # Features: radius1 and texture1\n",
    "y = df['diagnosis'].map({'M': 1, 'B': 0})  # Target: 1 = malignant, 0 = benign\n",
    "\n",
    "X_train, X_test, y_train, y_test = train_test_split(X, y, test_size=0.2, random_state=42)\n",
    "\n",
    "scaler = StandardScaler()\n",
    "X_train_scaled = scaler.fit_transform(X_train)\n",
    "X_test_scaled = scaler.transform(X_test)\n",
    "\n",
    "model = LogisticRegression()\n",
    "\n",
    "model.fit(X_train_scaled, y_train)\n",
    "\n",
    "y_pred = model.predict(X_test_scaled)\n",
    "\n",
    "print(f\"Accuracy: {accuracy_score(y_test, y_pred):.4f}\")\n",
    "print(\"Classification Report:\")\n",
    "print(classification_report(y_test, y_pred))\n",
    "\n",
    "new_sample = pd.DataFrame([[18, 10]], columns=['radius1', 'texture1'])\n",
    "\n",
    "new_sample_scaled = scaler.transform(new_sample)\n",
    "\n",
    "prediction = model.predict(new_sample_scaled)\n",
    "\n",
    "if prediction == 1:\n",
    "    print(\"The tissue is Malignant (M).\")\n",
    "else:\n",
    "    print(\"The tissue is Benign (B).\")\n"
   ],
   "outputs": [
    {
     "name": "stdout",
     "output_type": "stream",
     "text": [
      "Accuracy: 0.9035\n",
      "Classification Report:\n",
      "              precision    recall  f1-score   support\n",
      "\n",
      "           0       0.91      0.94      0.92        71\n",
      "           1       0.90      0.84      0.87        43\n",
      "\n",
      "    accuracy                           0.90       114\n",
      "   macro avg       0.90      0.89      0.90       114\n",
      "weighted avg       0.90      0.90      0.90       114\n",
      "\n",
      "The tissue is Malignant (M).\n"
     ]
    }
   ],
   "execution_count": 8
  },
  {
   "metadata": {
    "ExecuteTime": {
     "end_time": "2025-04-08T09:35:10.269490Z",
     "start_time": "2025-04-08T09:35:10.267675Z"
    }
   },
   "cell_type": "code",
   "source": "",
   "id": "3a3644b5aae8b6ee",
   "outputs": [],
   "execution_count": null
  }
 ],
 "metadata": {
  "kernelspec": {
   "display_name": "Python 3",
   "language": "python",
   "name": "python3"
  },
  "language_info": {
   "codemirror_mode": {
    "name": "ipython",
    "version": 2
   },
   "file_extension": ".py",
   "mimetype": "text/x-python",
   "name": "python",
   "nbconvert_exporter": "python",
   "pygments_lexer": "ipython2",
   "version": "2.7.6"
  }
 },
 "nbformat": 4,
 "nbformat_minor": 5
}
